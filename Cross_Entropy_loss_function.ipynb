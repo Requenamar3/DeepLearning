{
  "nbformat": 4,
  "nbformat_minor": 0,
  "metadata": {
    "colab": {
      "provenance": [],
      "authorship_tag": "ABX9TyNOeM0ZWWMMP4/6564LE1AP",
      "include_colab_link": true
    },
    "kernelspec": {
      "name": "python3",
      "display_name": "Python 3"
    },
    "language_info": {
      "name": "python"
    }
  },
  "cells": [
    {
      "cell_type": "markdown",
      "metadata": {
        "id": "view-in-github",
        "colab_type": "text"
      },
      "source": [
        "<a href=\"https://colab.research.google.com/github/Requenamar3/DeepLearning/blob/main/Cross_Entropy_loss_function.ipynb\" target=\"_parent\"><img src=\"https://colab.research.google.com/assets/colab-badge.svg\" alt=\"Open In Colab\"/></a>"
      ]
    },
    {
      "cell_type": "code",
      "execution_count": null,
      "metadata": {
        "colab": {
          "base_uri": "https://localhost:8080/"
        },
        "id": "W8eQmYU69KxU",
        "outputId": "df9e72c3-f0e0-4436-f645-ad2e7264f653"
      },
      "outputs": [
        {
          "output_type": "stream",
          "name": "stdout",
          "text": [
            "0.585026652029182\n",
            "0.09691001300805639\n",
            "0.3187587626244128\n",
            "0.1549019599857432\n",
            "0.2888993469118486\n"
          ]
        }
      ],
      "source": [
        "import math\n",
        "\n",
        "# Define the input data as a list of tuples\n",
        "input_data = [(0.26, 1), (0.20, 0), (0.48, 1), (0.30, 0)]\n",
        "\n",
        "# Define a function to calculate the cross-entropy loss\n",
        "def cross_entropy(input_data):\n",
        "    loss = 0\n",
        "    n = len(input_data)\n",
        "    for entry in input_data:\n",
        "        w_sum = entry[0]\n",
        "        y = entry[1]\n",
        "        # Calculate the cross-entropy loss for each entry\n",
        "        loss += -(y * math.log10(w_sum) + (1 - y) * math.log10(1 - w_sum))\n",
        "        print(-(y * math.log10(w_sum) + (1 - y) * math.log10(1 - w_sum)))\n",
        "    return loss / n\n",
        "\n",
        "# Calculate the error term using the cross-entropy loss function\n",
        "error_term = cross_entropy(input_data)\n",
        "\n",
        "# Print the error term\n",
        "print(error_term)\n"
      ]
    }
  ]
}