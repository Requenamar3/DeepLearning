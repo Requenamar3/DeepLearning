{
  "cells": [
    {
      "cell_type": "markdown",
      "metadata": {
        "id": "view-in-github",
        "colab_type": "text"
      },
      "source": [
        "<a href=\"https://colab.research.google.com/github/Requenamar3/DeepLearning/blob/main/Copy_of_ExtractTextFromVideo.ipynb\" target=\"_parent\"><img src=\"https://colab.research.google.com/assets/colab-badge.svg\" alt=\"Open In Colab\"/></a>"
      ]
    },
    {
      "cell_type": "code",
      "source": [
        "!pip install SpeechRecognition moviepy\n",
        "!pip install imageio-ffmpeg\n",
        "!pip install imageio==2.4.1"
      ],
      "metadata": {
        "id": "TzqFyhYmaA7e"
      },
      "execution_count": null,
      "outputs": []
    },
    {
      "cell_type": "code",
      "execution_count": null,
      "metadata": {
        "id": "QBvyV_rDZ4Io"
      },
      "outputs": [],
      "source": [
        "import speech_recognition as sr\n",
        "import moviepy.editor as mp"
      ]
    },
    {
      "cell_type": "code",
      "execution_count": null,
      "metadata": {
        "id": "WgsazLgOZ4Ir",
        "colab": {
          "base_uri": "https://localhost:8080/"
        },
        "outputId": "d3f2f9ba-6119-41e4-9d34-c6b54238ec70"
      },
      "outputs": [
        {
          "output_type": "stream",
          "name": "stdout",
          "text": [
            "MoviePy - Writing audio in converted_lesson2.wav\n"
          ]
        },
        {
          "output_type": "stream",
          "name": "stderr",
          "text": [
            "                                                                    "
          ]
        },
        {
          "output_type": "stream",
          "name": "stdout",
          "text": [
            "MoviePy - Done.\n"
          ]
        },
        {
          "output_type": "stream",
          "name": "stderr",
          "text": [
            "\r"
          ]
        }
      ],
      "source": [
        "clip = mp.VideoFileClip(r\"ErnestoSample.mp4\")\n",
        "clip.audio.write_audiofile(r\"converted_lesson2.wav\")"
      ]
    },
    {
      "cell_type": "code",
      "execution_count": null,
      "metadata": {
        "id": "hwiYsSv8Z4It"
      },
      "outputs": [],
      "source": [
        "r = sr.Recognizer()"
      ]
    },
    {
      "cell_type": "code",
      "execution_count": null,
      "metadata": {
        "id": "-I11nTq2Z4Iu"
      },
      "outputs": [],
      "source": [
        "audio = sr.AudioFile(\"converted_lesson2.wav\")"
      ]
    },
    {
      "cell_type": "code",
      "execution_count": null,
      "metadata": {
        "id": "g27RzOFoZ4Iu",
        "colab": {
          "base_uri": "https://localhost:8080/"
        },
        "outputId": "4ac9e53e-8240-4f79-8516-d032f3a5e22f"
      },
      "outputs": [
        {
          "output_type": "execute_result",
          "data": {
            "text/plain": [
              "speech_recognition.AudioFile"
            ]
          },
          "metadata": {},
          "execution_count": 6
        }
      ],
      "source": [
        "type(audio)"
      ]
    },
    {
      "cell_type": "code",
      "execution_count": null,
      "metadata": {
        "id": "4l74tQ-vZ4Iv"
      },
      "outputs": [],
      "source": [
        "with audio as source:\n",
        "  audio_file = r.record(source)\n",
        "result = r.recognize_google(audio_file)"
      ]
    },
    {
      "cell_type": "code",
      "execution_count": null,
      "metadata": {
        "id": "Lm_slClhZ4Iw",
        "colab": {
          "base_uri": "https://localhost:8080/"
        },
        "outputId": "898040cb-770e-433f-eed4-e10e90a8117a"
      },
      "outputs": [
        {
          "output_type": "stream",
          "name": "stdout",
          "text": [
            "ready!\n"
          ]
        }
      ],
      "source": [
        "# exporting the result\n",
        "with open('more_recognized.txt',mode ='w') as file:\n",
        "   file.write(\"Recognized Speech:\")\n",
        "   file.write(\"\\n\")\n",
        "   file.write(result)\n",
        "   print(\"ready!\")"
      ]
    },
    {
      "cell_type": "code",
      "execution_count": null,
      "metadata": {
        "id": "fcQBN0gUZ4Iy"
      },
      "outputs": [],
      "source": [
        "!pip install git+https://github.com/openai/whisper.git"
      ]
    },
    {
      "cell_type": "code",
      "execution_count": null,
      "metadata": {
        "id": "e6PEVYdWZ4Iz",
        "colab": {
          "base_uri": "https://localhost:8080/"
        },
        "outputId": "af7f0f23-98f1-4a9d-bee9-24493673ef5e"
      },
      "outputs": [
        {
          "output_type": "stream",
          "name": "stdout",
          "text": [
            "/usr/local/lib/python3.10/dist-packages/whisper/transcribe.py:114: UserWarning: FP16 is not supported on CPU; using FP32 instead\n",
            "  warnings.warn(\"FP16 is not supported on CPU; using FP32 instead\")\n",
            "[00:00.000 --> 00:10.620]  Hello, my name is Ernesto Lee from nesto.tv and Ernesto.net and in this very important\n",
            "[00:10.620 --> 00:16.720]  episode I'm going to show you the math behind machine learning and deep learning.\n",
            "[00:16.720 --> 00:22.520]  I typically like to stay away from the math because I feel sometimes that is intimidating\n",
            "[00:22.520 --> 00:24.880]  to students and it turns a lot of people off.\n"
          ]
        }
      ],
      "source": [
        "!whisper \"/content/converted_lesson2.wav\" --language Spanish --task translate"
      ]
    },
    {
      "cell_type": "code",
      "execution_count": null,
      "metadata": {
        "id": "1RikdItZZ4Iz"
      },
      "outputs": [],
      "source": []
    },
    {
      "cell_type": "code",
      "execution_count": null,
      "metadata": {
        "id": "7b0zLtomZ4I0"
      },
      "outputs": [],
      "source": []
    },
    {
      "cell_type": "code",
      "execution_count": null,
      "metadata": {
        "id": "DHGe6EarZ4I0"
      },
      "outputs": [],
      "source": []
    }
  ],
  "metadata": {
    "kernelspec": {
      "display_name": "Python 3",
      "language": "python",
      "name": "python3"
    },
    "language_info": {
      "codemirror_mode": {
        "name": "ipython",
        "version": 3
      },
      "file_extension": ".py",
      "mimetype": "text/x-python",
      "name": "python",
      "nbconvert_exporter": "python",
      "pygments_lexer": "ipython3",
      "version": "3.7.3"
    },
    "colab": {
      "provenance": [],
      "include_colab_link": true
    }
  },
  "nbformat": 4,
  "nbformat_minor": 0
}