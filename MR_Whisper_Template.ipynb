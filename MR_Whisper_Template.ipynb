{
  "nbformat": 4,
  "nbformat_minor": 0,
  "metadata": {
    "colab": {
      "provenance": [],
      "include_colab_link": true
    },
    "kernelspec": {
      "name": "python3",
      "display_name": "Python 3"
    },
    "language_info": {
      "name": "python"
    }
  },
  "cells": [
    {
      "cell_type": "markdown",
      "metadata": {
        "id": "view-in-github",
        "colab_type": "text"
      },
      "source": [
        "<a href=\"https://colab.research.google.com/github/Requenamar3/DeepLearning/blob/main/MR_Whisper_Template.ipynb\" target=\"_parent\"><img src=\"https://colab.research.google.com/assets/colab-badge.svg\" alt=\"Open In Colab\"/></a>"
      ]
    },
    {
      "cell_type": "code",
      "execution_count": null,
      "metadata": {
        "id": "C_FJPk1VYHI6"
      },
      "outputs": [],
      "source": [
        "!pip install git+https://github.com/openai/whisper.git"
      ]
    },
    {
      "cell_type": "code",
      "source": [
        "!whisper \"/content/New Recording.m4a\""
      ],
      "metadata": {
        "colab": {
          "base_uri": "https://localhost:8080/"
        },
        "id": "E19kzRnYb22i",
        "outputId": "fc35b9ea-5cf0-4ea9-90de-3f0260396519"
      },
      "execution_count": null,
      "outputs": [
        {
          "output_type": "stream",
          "name": "stdout",
          "text": [
            "100%|███████████████████████████████████████| 461M/461M [00:08<00:00, 54.2MiB/s]\n",
            "/usr/local/lib/python3.10/dist-packages/whisper/transcribe.py:114: UserWarning: FP16 is not supported on CPU; using FP32 instead\n",
            "  warnings.warn(\"FP16 is not supported on CPU; using FP32 instead\")\n",
            "Detecting language using up to the first 30 seconds. Use `--language` to specify the language\n",
            "Detected language: English\n",
            "[00:00.000 --> 00:11.000]  I'm going to sit with a private employer and you discuss what you're going to do, work in this software company or in this hamburger joint or whatever it is.\n",
            "[00:11.000 --> 00:20.000]  You sit and you discuss, I'm going to come in a Monday through Friday at eight o'clock at state of five, you know, I'm going to work with this machine in this corner under these rules.\n",
            "[00:20.000 --> 00:25.000]  And then you get to that key moment, how much are we going to get paid for this?\n",
            "[00:25.000 --> 00:31.000]  And let's say just for simplicity, I'm going to get paid twenty dollars an hour.\n",
            "[00:31.000 --> 00:38.000]  At that moment, Marx says something which was a theoretical breakthrough, even though everybody knows this,\n",
            "[00:38.000 --> 00:45.000]  but it's often true that the creative breakthroughs are putting into words what we kind of all know, but they quite didn't see it.\n",
            "[00:45.000 --> 00:49.000]  Here's his idea, if you're going to be paid by an employer twenty dollars an hour, the following statement must be true.\n",
            "[00:49.000 --> 00:53.000]  During that hour, your labor produces more for the employer than it sells at the end of the day than twenty dollars an hour.\n",
            "[00:53.000 --> 00:56.000]  Because that's why he's saying that if you pay you twenty, you have to work.\n",
            "[00:56.000 --> 00:59.000]  If you think you've been out for the day of 120 years now, then he's got nothing out of this.\n",
            "[00:59.000 --> 01:01.000]  He's made twenty by selling what you're laid out to produce, but he's got to do it to you.\n",
            "[01:01.000 --> 01:03.000]  And you know he likes you, he's not going to do that.\n",
            "[01:03.000 --> 01:05.000]  There has to be in it, you go, something for him.\n",
            "[01:05.000 --> 01:10.000]  You have to produce, you have to produce more in every hour than you get paid.\n",
            "[01:10.000 --> 01:12.000]  Otherwise, the system doesn't work.\n",
            "[01:12.000 --> 01:14.000]  So for those of you with a head to toe distance, why do you need to hear it?\n",
            "[01:14.000 --> 01:16.000]  Why do I admit I didn't think I'd tell you?\n",
            "[01:16.000 --> 01:19.000]  Those of you who think that in a capitalist system, you're never going to work for anybody,\n",
            "[01:19.000 --> 01:21.000]  don't pay you what you're worth, you don't understand the system you're in.\n"
          ]
        }
      ]
    },
    {
      "cell_type": "code",
      "source": [
        "!whisper \"/content/New Recording.m4a\" --language Spanish"
      ],
      "metadata": {
        "id": "KgMC2az0pU8T"
      },
      "execution_count": null,
      "outputs": []
    }
  ]
}