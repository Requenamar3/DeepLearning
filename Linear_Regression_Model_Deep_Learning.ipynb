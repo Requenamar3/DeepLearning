{
  "nbformat": 4,
  "nbformat_minor": 0,
  "metadata": {
    "colab": {
      "provenance": [],
      "authorship_tag": "ABX9TyNAwBCXKimkPX31mfqZBbZp",
      "include_colab_link": true
    },
    "kernelspec": {
      "name": "python3",
      "display_name": "Python 3"
    },
    "language_info": {
      "name": "python"
    }
  },
  "cells": [
    {
      "cell_type": "markdown",
      "metadata": {
        "id": "view-in-github",
        "colab_type": "text"
      },
      "source": [
        "<a href=\"https://colab.research.google.com/github/Requenamar3/DeepLearning/blob/main/Linear_Regression_Model_Deep_Learning.ipynb\" target=\"_parent\"><img src=\"https://colab.research.google.com/assets/colab-badge.svg\" alt=\"Open In Colab\"/></a>"
      ]
    },
    {
      "cell_type": "code",
      "execution_count": null,
      "metadata": {
        "colab": {
          "base_uri": "https://localhost:8080/",
          "height": 270
        },
        "id": "0bm3jd2ortwi",
        "outputId": "462d36e6-5186-477b-eb29-c4bf42ffce39"
      },
      "outputs": [
        {
          "output_type": "execute_result",
          "data": {
            "text/plain": [
              "        LATITUDE  LONGITUDE       PARCELNO  SALE_PRC  LND_SQFOOT  \\\n",
              "9276   25.587785 -80.333467  3660040091340  295000.0        9450   \n",
              "11078  25.956101 -80.337629  3020030170830  290000.0        4750   \n",
              "551    25.899927 -80.198763  3021240090220  201000.0       18597   \n",
              "9482   25.506869 -80.400553  3079020181100  292100.0        8383   \n",
              "1655   25.865636 -80.190805  1132060135621  692500.0       11500   \n",
              "\n",
              "       TOT_LVG_AREA  SPEC_FEAT_VAL  RAIL_DIST  OCEAN_DIST  WATER_DIST  \\\n",
              "9276           1952          26399    15114.7      8340.3      4998.9   \n",
              "11078          1507           5346    27508.8     71860.8      1759.6   \n",
              "551            1237              0     9706.7     25139.0      1093.4   \n",
              "9482           2115           3070    23948.2     20063.5     13673.5   \n",
              "1655           2823            611     2510.6     23462.9      4054.4   \n",
              "\n",
              "       CNTR_DIST  SUBCNTR_DI  HWY_DIST  age  avno60plus  month_sold  \\\n",
              "9276     82774.5     37113.0   10776.4   46           0           7   \n",
              "11078    80728.1     79383.2     945.5   26           0           1   \n",
              "551      44791.3     44791.3    3505.7   70           0           4   \n",
              "9482    119544.8     71908.7    3580.6    0           0           8   \n",
              "1655     32285.4     32285.4    5682.1   55           0           3   \n",
              "\n",
              "       structure_quality  \n",
              "9276                   4  \n",
              "11078                  4  \n",
              "551                    4  \n",
              "9482                   4  \n",
              "1655                   4  "
            ],
            "text/html": [
              "\n",
              "  <div id=\"df-7d4cf442-65ac-458d-b98a-970d4a48a714\">\n",
              "    <div class=\"colab-df-container\">\n",
              "      <div>\n",
              "<style scoped>\n",
              "    .dataframe tbody tr th:only-of-type {\n",
              "        vertical-align: middle;\n",
              "    }\n",
              "\n",
              "    .dataframe tbody tr th {\n",
              "        vertical-align: top;\n",
              "    }\n",
              "\n",
              "    .dataframe thead th {\n",
              "        text-align: right;\n",
              "    }\n",
              "</style>\n",
              "<table border=\"1\" class=\"dataframe\">\n",
              "  <thead>\n",
              "    <tr style=\"text-align: right;\">\n",
              "      <th></th>\n",
              "      <th>LATITUDE</th>\n",
              "      <th>LONGITUDE</th>\n",
              "      <th>PARCELNO</th>\n",
              "      <th>SALE_PRC</th>\n",
              "      <th>LND_SQFOOT</th>\n",
              "      <th>TOT_LVG_AREA</th>\n",
              "      <th>SPEC_FEAT_VAL</th>\n",
              "      <th>RAIL_DIST</th>\n",
              "      <th>OCEAN_DIST</th>\n",
              "      <th>WATER_DIST</th>\n",
              "      <th>CNTR_DIST</th>\n",
              "      <th>SUBCNTR_DI</th>\n",
              "      <th>HWY_DIST</th>\n",
              "      <th>age</th>\n",
              "      <th>avno60plus</th>\n",
              "      <th>month_sold</th>\n",
              "      <th>structure_quality</th>\n",
              "    </tr>\n",
              "  </thead>\n",
              "  <tbody>\n",
              "    <tr>\n",
              "      <th>9276</th>\n",
              "      <td>25.587785</td>\n",
              "      <td>-80.333467</td>\n",
              "      <td>3660040091340</td>\n",
              "      <td>295000.0</td>\n",
              "      <td>9450</td>\n",
              "      <td>1952</td>\n",
              "      <td>26399</td>\n",
              "      <td>15114.7</td>\n",
              "      <td>8340.3</td>\n",
              "      <td>4998.9</td>\n",
              "      <td>82774.5</td>\n",
              "      <td>37113.0</td>\n",
              "      <td>10776.4</td>\n",
              "      <td>46</td>\n",
              "      <td>0</td>\n",
              "      <td>7</td>\n",
              "      <td>4</td>\n",
              "    </tr>\n",
              "    <tr>\n",
              "      <th>11078</th>\n",
              "      <td>25.956101</td>\n",
              "      <td>-80.337629</td>\n",
              "      <td>3020030170830</td>\n",
              "      <td>290000.0</td>\n",
              "      <td>4750</td>\n",
              "      <td>1507</td>\n",
              "      <td>5346</td>\n",
              "      <td>27508.8</td>\n",
              "      <td>71860.8</td>\n",
              "      <td>1759.6</td>\n",
              "      <td>80728.1</td>\n",
              "      <td>79383.2</td>\n",
              "      <td>945.5</td>\n",
              "      <td>26</td>\n",
              "      <td>0</td>\n",
              "      <td>1</td>\n",
              "      <td>4</td>\n",
              "    </tr>\n",
              "    <tr>\n",
              "      <th>551</th>\n",
              "      <td>25.899927</td>\n",
              "      <td>-80.198763</td>\n",
              "      <td>3021240090220</td>\n",
              "      <td>201000.0</td>\n",
              "      <td>18597</td>\n",
              "      <td>1237</td>\n",
              "      <td>0</td>\n",
              "      <td>9706.7</td>\n",
              "      <td>25139.0</td>\n",
              "      <td>1093.4</td>\n",
              "      <td>44791.3</td>\n",
              "      <td>44791.3</td>\n",
              "      <td>3505.7</td>\n",
              "      <td>70</td>\n",
              "      <td>0</td>\n",
              "      <td>4</td>\n",
              "      <td>4</td>\n",
              "    </tr>\n",
              "    <tr>\n",
              "      <th>9482</th>\n",
              "      <td>25.506869</td>\n",
              "      <td>-80.400553</td>\n",
              "      <td>3079020181100</td>\n",
              "      <td>292100.0</td>\n",
              "      <td>8383</td>\n",
              "      <td>2115</td>\n",
              "      <td>3070</td>\n",
              "      <td>23948.2</td>\n",
              "      <td>20063.5</td>\n",
              "      <td>13673.5</td>\n",
              "      <td>119544.8</td>\n",
              "      <td>71908.7</td>\n",
              "      <td>3580.6</td>\n",
              "      <td>0</td>\n",
              "      <td>0</td>\n",
              "      <td>8</td>\n",
              "      <td>4</td>\n",
              "    </tr>\n",
              "    <tr>\n",
              "      <th>1655</th>\n",
              "      <td>25.865636</td>\n",
              "      <td>-80.190805</td>\n",
              "      <td>1132060135621</td>\n",
              "      <td>692500.0</td>\n",
              "      <td>11500</td>\n",
              "      <td>2823</td>\n",
              "      <td>611</td>\n",
              "      <td>2510.6</td>\n",
              "      <td>23462.9</td>\n",
              "      <td>4054.4</td>\n",
              "      <td>32285.4</td>\n",
              "      <td>32285.4</td>\n",
              "      <td>5682.1</td>\n",
              "      <td>55</td>\n",
              "      <td>0</td>\n",
              "      <td>3</td>\n",
              "      <td>4</td>\n",
              "    </tr>\n",
              "  </tbody>\n",
              "</table>\n",
              "</div>\n",
              "      <button class=\"colab-df-convert\" onclick=\"convertToInteractive('df-7d4cf442-65ac-458d-b98a-970d4a48a714')\"\n",
              "              title=\"Convert this dataframe to an interactive table.\"\n",
              "              style=\"display:none;\">\n",
              "        \n",
              "  <svg xmlns=\"http://www.w3.org/2000/svg\" height=\"24px\"viewBox=\"0 0 24 24\"\n",
              "       width=\"24px\">\n",
              "    <path d=\"M0 0h24v24H0V0z\" fill=\"none\"/>\n",
              "    <path d=\"M18.56 5.44l.94 2.06.94-2.06 2.06-.94-2.06-.94-.94-2.06-.94 2.06-2.06.94zm-11 1L8.5 8.5l.94-2.06 2.06-.94-2.06-.94L8.5 2.5l-.94 2.06-2.06.94zm10 10l.94 2.06.94-2.06 2.06-.94-2.06-.94-.94-2.06-.94 2.06-2.06.94z\"/><path d=\"M17.41 7.96l-1.37-1.37c-.4-.4-.92-.59-1.43-.59-.52 0-1.04.2-1.43.59L10.3 9.45l-7.72 7.72c-.78.78-.78 2.05 0 2.83L4 21.41c.39.39.9.59 1.41.59.51 0 1.02-.2 1.41-.59l7.78-7.78 2.81-2.81c.8-.78.8-2.07 0-2.86zM5.41 20L4 18.59l7.72-7.72 1.47 1.35L5.41 20z\"/>\n",
              "  </svg>\n",
              "      </button>\n",
              "      \n",
              "  <style>\n",
              "    .colab-df-container {\n",
              "      display:flex;\n",
              "      flex-wrap:wrap;\n",
              "      gap: 12px;\n",
              "    }\n",
              "\n",
              "    .colab-df-convert {\n",
              "      background-color: #E8F0FE;\n",
              "      border: none;\n",
              "      border-radius: 50%;\n",
              "      cursor: pointer;\n",
              "      display: none;\n",
              "      fill: #1967D2;\n",
              "      height: 32px;\n",
              "      padding: 0 0 0 0;\n",
              "      width: 32px;\n",
              "    }\n",
              "\n",
              "    .colab-df-convert:hover {\n",
              "      background-color: #E2EBFA;\n",
              "      box-shadow: 0px 1px 2px rgba(60, 64, 67, 0.3), 0px 1px 3px 1px rgba(60, 64, 67, 0.15);\n",
              "      fill: #174EA6;\n",
              "    }\n",
              "\n",
              "    [theme=dark] .colab-df-convert {\n",
              "      background-color: #3B4455;\n",
              "      fill: #D2E3FC;\n",
              "    }\n",
              "\n",
              "    [theme=dark] .colab-df-convert:hover {\n",
              "      background-color: #434B5C;\n",
              "      box-shadow: 0px 1px 3px 1px rgba(0, 0, 0, 0.15);\n",
              "      filter: drop-shadow(0px 1px 2px rgba(0, 0, 0, 0.3));\n",
              "      fill: #FFFFFF;\n",
              "    }\n",
              "  </style>\n",
              "\n",
              "      <script>\n",
              "        const buttonEl =\n",
              "          document.querySelector('#df-7d4cf442-65ac-458d-b98a-970d4a48a714 button.colab-df-convert');\n",
              "        buttonEl.style.display =\n",
              "          google.colab.kernel.accessAllowed ? 'block' : 'none';\n",
              "\n",
              "        async function convertToInteractive(key) {\n",
              "          const element = document.querySelector('#df-7d4cf442-65ac-458d-b98a-970d4a48a714');\n",
              "          const dataTable =\n",
              "            await google.colab.kernel.invokeFunction('convertToInteractive',\n",
              "                                                     [key], {});\n",
              "          if (!dataTable) return;\n",
              "\n",
              "          const docLinkHtml = 'Like what you see? Visit the ' +\n",
              "            '<a target=\"_blank\" href=https://colab.research.google.com/notebooks/data_table.ipynb>data table notebook</a>'\n",
              "            + ' to learn more about interactive tables.';\n",
              "          element.innerHTML = '';\n",
              "          dataTable['output_type'] = 'display_data';\n",
              "          await google.colab.output.renderOutput(dataTable, element);\n",
              "          const docLink = document.createElement('div');\n",
              "          docLink.innerHTML = docLinkHtml;\n",
              "          element.appendChild(docLink);\n",
              "        }\n",
              "      </script>\n",
              "    </div>\n",
              "  </div>\n",
              "  "
            ]
          },
          "metadata": {},
          "execution_count": 35
        }
      ],
      "source": [
        "#importing necessary libraries\n",
        "\n",
        "import numpy as np\n",
        "import pandas as pd\n",
        "import matplotlib.pyplot as plt\n",
        "\n",
        "#load dataset into dataframe\n",
        "df = pd.read_csv('https://raw.githubusercontent.com/fenago/datasets/main/miami-housing.csv')\n",
        "df.sample(5)"
      ]
    },
    {
      "cell_type": "code",
      "source": [
        "#checking for missing values\n",
        "\n",
        "df.isnull().sum()"
      ],
      "metadata": {
        "colab": {
          "base_uri": "https://localhost:8080/"
        },
        "id": "__QUzQ6nr8yP",
        "outputId": "6dcc23ad-ede6-41cc-efb1-b4a1657a878e"
      },
      "execution_count": null,
      "outputs": [
        {
          "output_type": "execute_result",
          "data": {
            "text/plain": [
              "LATITUDE             0\n",
              "LONGITUDE            0\n",
              "PARCELNO             0\n",
              "SALE_PRC             0\n",
              "LND_SQFOOT           0\n",
              "TOT_LVG_AREA         0\n",
              "SPEC_FEAT_VAL        0\n",
              "RAIL_DIST            0\n",
              "OCEAN_DIST           0\n",
              "WATER_DIST           0\n",
              "CNTR_DIST            0\n",
              "SUBCNTR_DI           0\n",
              "HWY_DIST             0\n",
              "age                  0\n",
              "avno60plus           0\n",
              "month_sold           0\n",
              "structure_quality    0\n",
              "dtype: int64"
            ]
          },
          "metadata": {},
          "execution_count": 36
        }
      ]
    },
    {
      "cell_type": "code",
      "source": [
        "#fill missing values with the mean of the respective column\n",
        "\n",
        "df.fillna(df.mean(), inplace=True)"
      ],
      "metadata": {
        "id": "j4POIr4FsDq2"
      },
      "execution_count": null,
      "outputs": []
    },
    {
      "cell_type": "code",
      "source": [
        "#add feature which the min distance of body of water\n",
        "\n",
        "df['dist_to_water'] = df[['OCEAN_DIST', 'WATER_DIST']].min(axis=1)"
      ],
      "metadata": {
        "id": "r5uRC1L8sFSQ"
      },
      "execution_count": null,
      "outputs": []
    },
    {
      "cell_type": "code",
      "source": [
        "#drop column not used\n",
        "\n",
        "to_drop = ['PARCELNO', 'OCEAN_DIST', 'WATER_DIST']\n",
        "df = df.drop(to_drop, axis=1)"
      ],
      "metadata": {
        "id": "mUoNpTqZsIlA"
      },
      "execution_count": null,
      "outputs": []
    },
    {
      "cell_type": "code",
      "source": [
        "# check out top rows\n",
        "\n",
        "df.head()"
      ],
      "metadata": {
        "id": "nuq2FCHGsLsw"
      },
      "execution_count": null,
      "outputs": []
    },
    {
      "cell_type": "code",
      "source": [
        "# Import the necessary modules\n",
        "from sklearn.preprocessing import MinMaxScaler\n",
        "from sklearn.model_selection import train_test_split\n",
        "\n",
        "# Create an instance of MinMaxScaler\n",
        "scaler = MinMaxScaler()\n",
        "\n",
        "# Separate the features (X) and the target variable (y)\n",
        "X = df.drop('SALE_PRC', axis=1)\n",
        "y = df['SALE_PRC']\n",
        "\n",
        "# Split the dataset into 20% of the data will be used for testing, and the remaining 80% for training\n",
        "# The random_state parameter is set to 42 ensures that the data split will be the same each time the code is run, which allows for reproducibility\n",
        "X_train, X_test, y_train, y_test = train_test_split(X, y, test_size=0.2, random_state=42)\n",
        "\n",
        "# Scale the features using the MinMaxScaler\n",
        "# The fit_transform method is used on the training set to compute the minimum and maximum values of each feature\n",
        "# and scale the features accordingly\n",
        "X_train = scaler.fit_transform(X_train)\n",
        "\n",
        "# Use the transform method on the testing set to scale the features based on the minimum and maximum values\n",
        "# computed from the training set\n",
        "X_test = scaler.transform(X_test)\n"
      ],
      "metadata": {
        "id": "aGgz3qgYsb-t"
      },
      "execution_count": null,
      "outputs": []
    },
    {
      "cell_type": "markdown",
      "source": [
        "In summary, the code prepares the data for a machine learning model by applying feature scaling using the MinMaxScaler. This scaler transforms each feature individually such that it is scaled to a specified range, usually between 0 and 1. This scaling is important to ensure that features with different scales do not disproportionately influence the learning algorithm. The dataset is then split into training and testing sets using the train_test_split function, with 80% of the data used for training and 20% for testing."
      ],
      "metadata": {
        "id": "RVqRkREqshiX"
      }
    },
    {
      "cell_type": "code",
      "source": [
        "# Import the necessary modules\n",
        "import tensorflow as tf\n",
        "from tensorflow.keras import Sequential\n",
        "from tensorflow.keras.layers import Dense\n",
        "from tensorflow.keras.optimizers import Adam\n",
        "from tensorflow.keras import backend as K\n",
        "\n",
        "# Custom loss function\n",
        "# Define a custom loss function that calculates the root mean squared error (RMSE)\n",
        "def rmse(y_true, y_pred):\n",
        "    return K.sqrt(K.mean(K.square(y_pred - y_true)))\n",
        "\n",
        "# Model architecture\n",
        "# Create a sequential model using the Keras Sequential API\n",
        "model = Sequential([\n",
        "    Dense(128, activation='relu', input_shape=(X_train.shape[1],)),\n",
        "    Dense(64, activation='relu'),\n",
        "    Dense(32, activation='relu'),\n",
        "    Dense(1)\n",
        "])\n",
        "\n",
        "# Compile the model\n",
        "# Set the loss function to the custom RMSE function defined earlier\n",
        "# Use the Adam optimizer for optimizing the model's weights\n",
        "# Add the RMSE metric for evaluation during training\n",
        "model.compile(loss=rmse, optimizer=Adam(), metrics=[rmse])\n",
        "\n",
        "# Train the model\n",
        "# Fit the model to the training data\n",
        "# Run 100 epochs (iterations over the entire training dataset)\n",
        "# Use a batch size of 32 (number of samples per gradient update)\n",
        "model.fit(X_train, y_train, epochs=100, batch_size=32)\n"
      ],
      "metadata": {
        "colab": {
          "base_uri": "https://localhost:8080/"
        },
        "id": "uVqhVtrLsmqP",
        "outputId": "16fa4497-84cb-472e-81dd-3c50da98ca93"
      },
      "execution_count": null,
      "outputs": [
        {
          "output_type": "stream",
          "name": "stdout",
          "text": [
            "Epoch 1/100\n",
            "349/349 [==============================] - 2s 2ms/step - loss: 487474.2188 - rmse: 488003.1562\n",
            "Epoch 2/100\n",
            "349/349 [==============================] - 1s 2ms/step - loss: 320668.6875 - rmse: 320392.2188\n",
            "Epoch 3/100\n",
            "349/349 [==============================] - 1s 2ms/step - loss: 280143.0000 - rmse: 279863.7500\n",
            "Epoch 4/100\n",
            "349/349 [==============================] - 1s 2ms/step - loss: 266613.4375 - rmse: 267000.4688\n",
            "Epoch 5/100\n",
            "349/349 [==============================] - 1s 2ms/step - loss: 254586.9844 - rmse: 254288.5312\n",
            "Epoch 6/100\n",
            "349/349 [==============================] - 1s 2ms/step - loss: 234450.3281 - rmse: 234489.7812\n",
            "Epoch 7/100\n",
            "349/349 [==============================] - 1s 2ms/step - loss: 214002.4531 - rmse: 213823.1562\n",
            "Epoch 8/100\n",
            "349/349 [==============================] - 1s 2ms/step - loss: 189486.5000 - rmse: 189523.6719\n",
            "Epoch 9/100\n",
            "349/349 [==============================] - 1s 2ms/step - loss: 174630.5938 - rmse: 174489.7656\n",
            "Epoch 10/100\n",
            "349/349 [==============================] - 1s 2ms/step - loss: 164479.0000 - rmse: 164417.7812\n",
            "Epoch 11/100\n",
            "349/349 [==============================] - 1s 2ms/step - loss: 157878.6094 - rmse: 157764.0938\n",
            "Epoch 12/100\n",
            "349/349 [==============================] - 1s 2ms/step - loss: 151996.2188 - rmse: 151830.5000\n",
            "Epoch 13/100\n",
            "349/349 [==============================] - 1s 2ms/step - loss: 148711.8281 - rmse: 148613.8906\n",
            "Epoch 14/100\n",
            "349/349 [==============================] - 2s 5ms/step - loss: 143298.5938 - rmse: 143256.4844\n",
            "Epoch 15/100\n",
            "349/349 [==============================] - 1s 3ms/step - loss: 141985.8594 - rmse: 141872.4219\n",
            "Epoch 16/100\n",
            "349/349 [==============================] - 1s 3ms/step - loss: 139209.8438 - rmse: 139016.5156\n",
            "Epoch 17/100\n",
            "349/349 [==============================] - 1s 3ms/step - loss: 137562.1406 - rmse: 137482.5938\n",
            "Epoch 18/100\n",
            "349/349 [==============================] - 1s 2ms/step - loss: 135496.9219 - rmse: 135884.2812\n",
            "Epoch 19/100\n",
            "349/349 [==============================] - 1s 2ms/step - loss: 134110.4688 - rmse: 134086.2031\n",
            "Epoch 20/100\n",
            "349/349 [==============================] - 1s 2ms/step - loss: 133359.7969 - rmse: 133286.7812\n",
            "Epoch 21/100\n",
            "349/349 [==============================] - 1s 2ms/step - loss: 132184.2344 - rmse: 132078.6875\n",
            "Epoch 22/100\n",
            "349/349 [==============================] - 1s 2ms/step - loss: 131061.3438 - rmse: 131163.4062\n",
            "Epoch 23/100\n",
            "349/349 [==============================] - 1s 2ms/step - loss: 130434.4375 - rmse: 130460.0312\n",
            "Epoch 24/100\n",
            "349/349 [==============================] - 1s 2ms/step - loss: 130562.2891 - rmse: 130656.5156\n",
            "Epoch 25/100\n",
            "349/349 [==============================] - 1s 2ms/step - loss: 129427.2578 - rmse: 129326.3828\n",
            "Epoch 26/100\n",
            "349/349 [==============================] - 1s 2ms/step - loss: 129017.4531 - rmse: 128887.8828\n",
            "Epoch 27/100\n",
            "349/349 [==============================] - 1s 2ms/step - loss: 128155.1953 - rmse: 128299.7812\n",
            "Epoch 28/100\n",
            "349/349 [==============================] - 1s 2ms/step - loss: 127873.2031 - rmse: 127965.6953\n",
            "Epoch 29/100\n",
            "349/349 [==============================] - 1s 2ms/step - loss: 127518.6641 - rmse: 127401.0312\n",
            "Epoch 30/100\n",
            "349/349 [==============================] - 1s 2ms/step - loss: 127050.6406 - rmse: 126909.3203\n",
            "Epoch 31/100\n",
            "349/349 [==============================] - 1s 3ms/step - loss: 126403.6016 - rmse: 126461.1328\n",
            "Epoch 32/100\n",
            "349/349 [==============================] - 1s 3ms/step - loss: 126115.4062 - rmse: 126065.5781\n",
            "Epoch 33/100\n",
            "349/349 [==============================] - 1s 3ms/step - loss: 125985.7656 - rmse: 125860.6406\n",
            "Epoch 34/100\n",
            "349/349 [==============================] - 1s 2ms/step - loss: 125906.0859 - rmse: 126125.4688\n",
            "Epoch 35/100\n",
            "349/349 [==============================] - 1s 2ms/step - loss: 125336.9453 - rmse: 125306.0625\n",
            "Epoch 36/100\n",
            "349/349 [==============================] - 1s 2ms/step - loss: 123912.0078 - rmse: 123908.3984\n",
            "Epoch 37/100\n",
            "349/349 [==============================] - 1s 2ms/step - loss: 124463.6719 - rmse: 124437.4062\n",
            "Epoch 38/100\n",
            "349/349 [==============================] - 1s 2ms/step - loss: 123954.1094 - rmse: 123850.4609\n",
            "Epoch 39/100\n",
            "349/349 [==============================] - 1s 2ms/step - loss: 124113.0000 - rmse: 124023.5547\n",
            "Epoch 40/100\n",
            "349/349 [==============================] - 1s 2ms/step - loss: 123581.3438 - rmse: 123435.0391\n",
            "Epoch 41/100\n",
            "349/349 [==============================] - 1s 2ms/step - loss: 123726.0078 - rmse: 123560.8516\n",
            "Epoch 42/100\n",
            "349/349 [==============================] - 1s 2ms/step - loss: 122906.9531 - rmse: 122926.8906\n",
            "Epoch 43/100\n",
            "349/349 [==============================] - 1s 2ms/step - loss: 122589.5703 - rmse: 122454.3047\n",
            "Epoch 44/100\n",
            "349/349 [==============================] - 1s 2ms/step - loss: 122104.0547 - rmse: 122142.2344\n",
            "Epoch 45/100\n",
            "349/349 [==============================] - 1s 2ms/step - loss: 121687.2969 - rmse: 121622.6328\n",
            "Epoch 46/100\n",
            "349/349 [==============================] - 1s 2ms/step - loss: 122288.6016 - rmse: 122159.1406\n",
            "Epoch 47/100\n",
            "349/349 [==============================] - 1s 3ms/step - loss: 121081.5547 - rmse: 121022.7500\n",
            "Epoch 48/100\n",
            "349/349 [==============================] - 1s 3ms/step - loss: 121853.3672 - rmse: 121788.8047\n",
            "Epoch 49/100\n",
            "349/349 [==============================] - 1s 3ms/step - loss: 121004.7031 - rmse: 121401.5391\n",
            "Epoch 50/100\n",
            "349/349 [==============================] - 1s 3ms/step - loss: 120868.4531 - rmse: 120756.2422\n",
            "Epoch 51/100\n",
            "349/349 [==============================] - 1s 2ms/step - loss: 121617.3281 - rmse: 121696.6328\n",
            "Epoch 52/100\n",
            "349/349 [==============================] - 1s 2ms/step - loss: 120238.4141 - rmse: 120078.6953\n",
            "Epoch 53/100\n",
            "349/349 [==============================] - 1s 2ms/step - loss: 120419.0781 - rmse: 120426.7969\n",
            "Epoch 54/100\n",
            "349/349 [==============================] - 1s 2ms/step - loss: 119915.5078 - rmse: 119759.1875\n",
            "Epoch 55/100\n",
            "349/349 [==============================] - 1s 2ms/step - loss: 120077.0938 - rmse: 120088.9375\n",
            "Epoch 56/100\n",
            "349/349 [==============================] - 1s 2ms/step - loss: 119667.6328 - rmse: 119763.2344\n",
            "Epoch 57/100\n",
            "349/349 [==============================] - 1s 2ms/step - loss: 120022.8828 - rmse: 120013.9844\n",
            "Epoch 58/100\n",
            "349/349 [==============================] - 1s 2ms/step - loss: 119356.5625 - rmse: 119233.3672\n",
            "Epoch 59/100\n",
            "349/349 [==============================] - 1s 2ms/step - loss: 119041.8281 - rmse: 119178.1797\n",
            "Epoch 60/100\n",
            "349/349 [==============================] - 1s 2ms/step - loss: 118501.9141 - rmse: 118342.6484\n",
            "Epoch 61/100\n",
            "349/349 [==============================] - 1s 2ms/step - loss: 119566.7578 - rmse: 119435.2422\n",
            "Epoch 62/100\n",
            "349/349 [==============================] - 1s 2ms/step - loss: 118611.1875 - rmse: 118823.0000\n",
            "Epoch 63/100\n",
            "349/349 [==============================] - 1s 2ms/step - loss: 118807.3516 - rmse: 119011.1484\n",
            "Epoch 64/100\n",
            "349/349 [==============================] - 1s 2ms/step - loss: 117604.8594 - rmse: 117493.8438\n",
            "Epoch 65/100\n",
            "349/349 [==============================] - 1s 3ms/step - loss: 118090.5469 - rmse: 117970.1172\n",
            "Epoch 66/100\n",
            "349/349 [==============================] - 1s 3ms/step - loss: 117522.9844 - rmse: 117417.4688\n",
            "Epoch 67/100\n",
            "349/349 [==============================] - 1s 3ms/step - loss: 117394.0312 - rmse: 117438.7656\n",
            "Epoch 68/100\n",
            "349/349 [==============================] - 1s 2ms/step - loss: 117445.6484 - rmse: 117375.6250\n",
            "Epoch 69/100\n",
            "349/349 [==============================] - 1s 2ms/step - loss: 117072.1641 - rmse: 117122.0781\n",
            "Epoch 70/100\n",
            "349/349 [==============================] - 1s 2ms/step - loss: 116904.3672 - rmse: 116831.2656\n",
            "Epoch 71/100\n",
            "349/349 [==============================] - 1s 2ms/step - loss: 116866.5625 - rmse: 116804.0547\n",
            "Epoch 72/100\n",
            "349/349 [==============================] - 1s 2ms/step - loss: 116118.9844 - rmse: 116163.6641\n",
            "Epoch 73/100\n",
            "349/349 [==============================] - 1s 2ms/step - loss: 116412.9609 - rmse: 116307.7578\n",
            "Epoch 74/100\n",
            "349/349 [==============================] - 1s 2ms/step - loss: 116430.0156 - rmse: 116566.6016\n",
            "Epoch 75/100\n",
            "349/349 [==============================] - 1s 2ms/step - loss: 115621.0391 - rmse: 115597.4453\n",
            "Epoch 76/100\n",
            "349/349 [==============================] - 1s 2ms/step - loss: 115847.4844 - rmse: 115755.6562\n",
            "Epoch 77/100\n",
            "349/349 [==============================] - 1s 2ms/step - loss: 114470.6094 - rmse: 114374.3984\n",
            "Epoch 78/100\n",
            "349/349 [==============================] - 1s 2ms/step - loss: 115437.4766 - rmse: 115745.8906\n",
            "Epoch 79/100\n",
            "349/349 [==============================] - 1s 2ms/step - loss: 115246.5391 - rmse: 115447.1172\n",
            "Epoch 80/100\n",
            "349/349 [==============================] - 1s 2ms/step - loss: 115195.2578 - rmse: 115040.8047\n",
            "Epoch 81/100\n",
            "349/349 [==============================] - 1s 2ms/step - loss: 113937.7891 - rmse: 113885.4219\n",
            "Epoch 82/100\n",
            "349/349 [==============================] - 1s 3ms/step - loss: 114708.3516 - rmse: 114595.0469\n",
            "Epoch 83/100\n",
            "349/349 [==============================] - 1s 3ms/step - loss: 114464.5938 - rmse: 114592.2266\n",
            "Epoch 84/100\n",
            "349/349 [==============================] - 1s 3ms/step - loss: 114116.3438 - rmse: 114026.7969\n",
            "Epoch 85/100\n",
            "349/349 [==============================] - 1s 2ms/step - loss: 114210.4297 - rmse: 114106.8984\n",
            "Epoch 86/100\n",
            "349/349 [==============================] - 1s 4ms/step - loss: 113852.4922 - rmse: 113667.1719\n",
            "Epoch 87/100\n",
            "349/349 [==============================] - 1s 2ms/step - loss: 112680.4766 - rmse: 112653.6953\n",
            "Epoch 88/100\n",
            "349/349 [==============================] - 1s 2ms/step - loss: 112713.3750 - rmse: 112610.8516\n",
            "Epoch 89/100\n",
            "349/349 [==============================] - 1s 2ms/step - loss: 112196.8281 - rmse: 112149.0312\n",
            "Epoch 90/100\n",
            "349/349 [==============================] - 1s 2ms/step - loss: 111720.5469 - rmse: 111592.3906\n",
            "Epoch 91/100\n",
            "349/349 [==============================] - 1s 2ms/step - loss: 112813.4453 - rmse: 112727.4531\n",
            "Epoch 92/100\n",
            "349/349 [==============================] - 1s 2ms/step - loss: 111874.7891 - rmse: 111783.7500\n",
            "Epoch 93/100\n",
            "349/349 [==============================] - 1s 2ms/step - loss: 110581.1719 - rmse: 110613.9844\n",
            "Epoch 94/100\n",
            "349/349 [==============================] - 1s 2ms/step - loss: 111223.1250 - rmse: 111037.7500\n",
            "Epoch 95/100\n",
            "349/349 [==============================] - 1s 2ms/step - loss: 111482.7891 - rmse: 111414.7031\n",
            "Epoch 96/100\n",
            "349/349 [==============================] - 1s 2ms/step - loss: 111562.5391 - rmse: 111405.5234\n",
            "Epoch 97/100\n",
            "349/349 [==============================] - 1s 3ms/step - loss: 110576.1875 - rmse: 110540.0703\n",
            "Epoch 98/100\n",
            "349/349 [==============================] - 1s 3ms/step - loss: 110854.2578 - rmse: 110976.5703\n",
            "Epoch 99/100\n",
            "349/349 [==============================] - 1s 3ms/step - loss: 110317.2656 - rmse: 110181.5469\n",
            "Epoch 100/100\n",
            "349/349 [==============================] - 1s 2ms/step - loss: 109906.3125 - rmse: 109813.8672\n"
          ]
        },
        {
          "output_type": "execute_result",
          "data": {
            "text/plain": [
              "<keras.callbacks.History at 0x7fe14d2def80>"
            ]
          },
          "metadata": {},
          "execution_count": 40
        }
      ]
    },
    {
      "cell_type": "markdown",
      "source": [
        "In summary, the code imports the necessary modules from TensorFlow and Keras and defines a custom loss function (rmse) using the backend functions from Keras. The model architecture is created using the Sequential API, which allows stacking layers in a linear manner. The model consists of several Dense layers, each with a specified number of neurons and activation function. The last layer has a single neuron since it is a regression problem with a single output. The model is then compiled with the RMSE loss function, the Adam optimizer, and the RMSE metric for evaluation. Finally, the model is trained on the training data using the fit method, specifying the number of epochs and the batch size."
      ],
      "metadata": {
        "id": "LJEVxOGvtfYI"
      }
    },
    {
      "cell_type": "code",
      "source": [
        "# Check the shapes of y_test and predictions\n",
        "print(\"y_test shape:\", y_test.shape)\n",
        "\n",
        "# Check the shape of predictions\n",
        "print(\"predictions shape:\", predictions.shape)\n",
        "\n",
        "# Flatten both y_test and predictions if necessary\n",
        "if len(y_test.shape) > 1:\n",
        "    y_test = y_test.flatten()\n",
        "\n",
        "if len(predictions.shape) > 1:\n",
        "    predictions = predictions.flatten()\n",
        "\n",
        "# Calculate RMSE\n",
        "rmse_value = rmse(y_test, predictions)\n",
        "print(f'RMSE on the test set: {rmse_value.numpy()}')"
      ],
      "metadata": {
        "colab": {
          "base_uri": "https://localhost:8080/"
        },
        "id": "pG8Ugjajuiab",
        "outputId": "33f75d78-c733-4e86-c65e-6c839893906b"
      },
      "execution_count": null,
      "outputs": [
        {
          "output_type": "stream",
          "name": "stdout",
          "text": [
            "y_test shape: (2787,)\n",
            "predictions shape: (2787,)\n",
            "RMSE on the test set: 119562.34995101926\n"
          ]
        }
      ]
    },
    {
      "cell_type": "markdown",
      "source": [
        "RMSE measures the average distance between the predicted values and the true values, giving an indication of how well the model's predictions align with the actual data."
      ],
      "metadata": {
        "id": "9iuoqRud8-ct"
      }
    },
    {
      "cell_type": "code",
      "source": [
        "# Calculate mean absolute error (MAE)\n",
        "mae = tf.keras.losses.MeanAbsoluteError()\n",
        "mae_value = mae(y_test, predictions).numpy()\n"
      ],
      "metadata": {
        "id": "9WxkKf1_vSuH"
      },
      "execution_count": null,
      "outputs": []
    },
    {
      "cell_type": "code",
      "source": [
        "# Print RMSE and MAE\n",
        "print(f\"RMSE on the test set: {rmse_value:.2f}\")\n",
        "print(f\"Mean Absolute Error (MAE) on the test set: {mae_value:.2f}\")\n"
      ],
      "metadata": {
        "colab": {
          "base_uri": "https://localhost:8080/"
        },
        "id": "UTVZXAjivUjI",
        "outputId": "42368e10-697e-410f-faee-f9762685b10b"
      },
      "execution_count": null,
      "outputs": [
        {
          "output_type": "stream",
          "name": "stdout",
          "text": [
            "RMSE on the test set: 119562.35\n",
            "Mean Absolute Error (MAE) on the test set: 65987.66\n"
          ]
        }
      ]
    },
    {
      "cell_type": "code",
      "source": [
        "df.shape"
      ],
      "metadata": {
        "colab": {
          "base_uri": "https://localhost:8080/"
        },
        "id": "yza9EHZ2JJKX",
        "outputId": "55cf2c89-76e9-4ee6-dfee-2d3d28f48cfb"
      },
      "execution_count": null,
      "outputs": [
        {
          "output_type": "execute_result",
          "data": {
            "text/plain": [
              "(13932, 15)"
            ]
          },
          "metadata": {},
          "execution_count": 44
        }
      ]
    },
    {
      "cell_type": "code",
      "source": [
        "to_drop = ['SALE_PRC']\n",
        "df = df.drop(to_drop, axis=1)"
      ],
      "metadata": {
        "id": "aVl5twFTJfY4"
      },
      "execution_count": null,
      "outputs": []
    },
    {
      "cell_type": "code",
      "source": [
        "new_data = np.array([[25.891031,-80.160561,9375,1753,0,2815.9,42815.3,37742.2,15954.9,67,0,8,4,347.6]])"
      ],
      "metadata": {
        "id": "cqbGu52vKA9E"
      },
      "execution_count": null,
      "outputs": []
    },
    {
      "cell_type": "code",
      "source": [
        "# Preprocess the new data point\n",
        "scaled_new_data = scaler.transform(new_data)"
      ],
      "metadata": {
        "colab": {
          "base_uri": "https://localhost:8080/"
        },
        "id": "wvJlRscyKsM1",
        "outputId": "4a9ebed7-4769-4355-c3e4-766d15fb3e55"
      },
      "execution_count": null,
      "outputs": [
        {
          "output_type": "stream",
          "name": "stderr",
          "text": [
            "/usr/local/lib/python3.10/dist-packages/sklearn/base.py:439: UserWarning: X does not have valid feature names, but MinMaxScaler was fitted with feature names\n",
            "  warnings.warn(\n"
          ]
        }
      ]
    },
    {
      "cell_type": "code",
      "source": [
        "# Make a prediction using the preprocessed new data point\n",
        "new_prediction = model.predict(scaled_new_data)"
      ],
      "metadata": {
        "colab": {
          "base_uri": "https://localhost:8080/"
        },
        "id": "SpCRHkXJK5ar",
        "outputId": "58301863-ec95-42df-b59f-625e68816e42"
      },
      "execution_count": null,
      "outputs": [
        {
          "output_type": "stream",
          "name": "stdout",
          "text": [
            "1/1 [==============================] - 0s 64ms/step\n"
          ]
        }
      ]
    },
    {
      "cell_type": "code",
      "source": [
        "# Print the prediction\n",
        "print(f\"Predicted value for the new data point: {new_prediction[0][0]:.2f}\")"
      ],
      "metadata": {
        "id": "IMe4R32sLAgq",
        "outputId": "826f860d-1019-4a98-da67-1a2b3a7c4149",
        "colab": {
          "base_uri": "https://localhost:8080/"
        }
      },
      "execution_count": null,
      "outputs": [
        {
          "output_type": "stream",
          "name": "stdout",
          "text": [
            "Predicted value for the new data point: 454330.47\n"
          ]
        }
      ]
    }
  ]
}