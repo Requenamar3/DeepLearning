{
  "nbformat": 4,
  "nbformat_minor": 0,
  "metadata": {
    "colab": {
      "provenance": [],
      "include_colab_link": true
    },
    "kernelspec": {
      "name": "python3",
      "display_name": "Python 3"
    },
    "language_info": {
      "name": "python"
    }
  },
  "cells": [
    {
      "cell_type": "markdown",
      "metadata": {
        "id": "view-in-github",
        "colab_type": "text"
      },
      "source": [
        "<a href=\"https://colab.research.google.com/github/Requenamar3/DeepLearning/blob/main/GradientDescent.ipynb\" target=\"_parent\"><img src=\"https://colab.research.google.com/assets/colab-badge.svg\" alt=\"Open In Colab\"/></a>"
      ]
    },
    {
      "cell_type": "code",
      "execution_count": null,
      "metadata": {
        "colab": {
          "base_uri": "https://localhost:8080/"
        },
        "id": "GQQI49rLuTwK",
        "outputId": "bc04beb3-f63b-4b87-dbf4-de7c6d60e606"
      },
      "outputs": [
        {
          "output_type": "stream",
          "name": "stdout",
          "text": [
            "0.30250000000000005\n"
          ]
        }
      ],
      "source": [
        "knob_weight = 0.5\n",
        "input = 0.5\n",
        "goal_pred = 0.8\n",
        "\n",
        "pred = input * knob_weight\n",
        "error = (pred - goal_pred) ** 2\n",
        "print(error)"
      ]
    },
    {
      "cell_type": "code",
      "source": [
        "# 1) An Empty Network\n",
        "\n",
        "weight = 0.1\n",
        "lr = 0.01\n",
        "\n",
        "def neural_network(input, weight):\n",
        "    prediction = input * weight\n",
        "    return prediction\n",
        "\n",
        "\n",
        "# 2) PREDICT: Making A Prediction And Evaluating Error\n",
        "\n",
        "number_of_toes = [8.5]\n",
        "win_or_lose_binary = [1] #(won!!!)\n",
        "\n",
        "input = number_of_toes[0]\n",
        "true = win_or_lose_binary[0]\n",
        "\n",
        "pred = neural_network(input,weight)\n",
        "error = (pred - true) ** 2\n",
        "print(error)"
      ],
      "metadata": {
        "colab": {
          "base_uri": "https://localhost:8080/"
        },
        "id": "jhoVmDdQ1lCd",
        "outputId": "332f35f4-f0c6-4b29-e4e8-812614f7a0c9"
      },
      "execution_count": null,
      "outputs": [
        {
          "output_type": "stream",
          "name": "stdout",
          "text": [
            "0.022499999999999975\n"
          ]
        }
      ]
    },
    {
      "cell_type": "code",
      "source": [
        "# 3) COMPARE: Making A Prediction With a *Higher* Weight And Evaluating Error\n",
        "\n",
        "weight = 0.1\n",
        "\n",
        "def neural_network(input, weight):\n",
        "    prediction = input * weight\n",
        "    return prediction\n",
        "\n",
        "number_of_toes = [8.5]\n",
        "win_or_lose_binary = [1] #(won!!!)\n",
        "\n",
        "input = number_of_toes[0]\n",
        "true = win_or_lose_binary[0]\n",
        "\n",
        "lr = 0.01\n",
        "p_up = neural_network(input,weight+lr)\n",
        "e_up = (p_up - true) ** 2\n",
        "print(e_up)"
      ],
      "metadata": {
        "colab": {
          "base_uri": "https://localhost:8080/"
        },
        "id": "tdo5PjFe3dLo",
        "outputId": "b80aeb2b-c706-4266-dd45-ac4a93d8d606"
      },
      "execution_count": null,
      "outputs": [
        {
          "output_type": "stream",
          "name": "stdout",
          "text": [
            "0.004224999999999993\n"
          ]
        }
      ]
    },
    {
      "cell_type": "code",
      "source": [
        "# 4) COMPARE: Making A Prediction With a *Lower* Weight And Evaluating Error\n",
        "\n",
        "weight = 0.1\n",
        "\n",
        "def neural_network(input, weight):\n",
        "    prediction = input * weight\n",
        "    return prediction\n",
        "\n",
        "number_of_toes = [8.5]\n",
        "win_or_lose_binary = [1] #(won!!!)\n",
        "\n",
        "input = number_of_toes[0]\n",
        "true = win_or_lose_binary[0]\n",
        "\n",
        "lr = 0.01\n",
        "p_dn = neural_network(input,weight-lr)\n",
        "e_dn = (p_dn - true) ** 2\n",
        "print(e_dn)"
      ],
      "metadata": {
        "colab": {
          "base_uri": "https://localhost:8080/"
        },
        "id": "n_h78mks3km1",
        "outputId": "f187fb03-743c-4abb-d861-e7fe393f0966"
      },
      "execution_count": null,
      "outputs": [
        {
          "output_type": "stream",
          "name": "stdout",
          "text": [
            "0.05522499999999994\n"
          ]
        }
      ]
    },
    {
      "cell_type": "code",
      "source": [
        "weight = 0.5\n",
        "input = 0.5\n",
        "goal_prediction = 0.8\n",
        "\n",
        "step_amount = .001\n",
        "\n",
        "for iteration in range(1101):\n",
        "\n",
        "    prediction = input * weight\n",
        "    error = (prediction - goal_prediction) ** 2\n",
        "\n",
        "    print(\"Error:\" + str(error) + \" Prediction:\" + str(prediction))\n",
        "\n",
        "    up_prediction = input * (weight + step_amount)\n",
        "    up_error = (goal_prediction - up_prediction) ** 2\n",
        "\n",
        "    down_prediction = input * (weight - step_amount)\n",
        "    down_error = (goal_prediction - down_prediction) ** 2\n",
        "\n",
        "    if(down_error < up_error):\n",
        "        weight = weight - step_amount\n",
        "\n",
        "    if(down_error > up_error):\n",
        "        weight = weight + step_amount"
      ],
      "metadata": {
        "id": "NmYJ2_Br49Ds"
      },
      "execution_count": null,
      "outputs": []
    },
    {
      "cell_type": "code",
      "source": [
        "weight = 0.5\n",
        "goal_pred = 0.8\n",
        "input = 0.5\n",
        "\n",
        "for iteration in range(20):\n",
        "    pred = input * weight\n",
        "    error = (pred - goal_pred) ** 2\n",
        "    direction_and_amount = (pred - goal_pred) * input\n",
        "    weight = weight - direction_and_amount\n",
        "\n",
        "    print(\"Error:\" + str(error) + \" Prediction:\" + str(pred))"
      ],
      "metadata": {
        "colab": {
          "base_uri": "https://localhost:8080/"
        },
        "id": "NmO8Uq3k99AL",
        "outputId": "c4e39b81-c3bc-4cd6-fdf9-43fae94ff3d2"
      },
      "execution_count": null,
      "outputs": [
        {
          "output_type": "stream",
          "name": "stdout",
          "text": [
            "Error:0.30250000000000005 Prediction:0.25\n",
            "Error:0.17015625000000004 Prediction:0.3875\n",
            "Error:0.095712890625 Prediction:0.49062500000000003\n",
            "Error:0.05383850097656251 Prediction:0.56796875\n",
            "Error:0.03028415679931642 Prediction:0.6259765625\n",
            "Error:0.0170348381996155 Prediction:0.669482421875\n",
            "Error:0.00958209648728372 Prediction:0.70211181640625\n",
            "Error:0.005389929274097089 Prediction:0.7265838623046875\n",
            "Error:0.0030318352166796153 Prediction:0.7449378967285156\n",
            "Error:0.0017054073093822882 Prediction:0.7587034225463867\n",
            "Error:0.0009592916115275371 Prediction:0.76902756690979\n",
            "Error:0.0005396015314842384 Prediction:0.7767706751823426\n",
            "Error:0.000303525861459885 Prediction:0.7825780063867569\n",
            "Error:0.00017073329707118678 Prediction:0.7869335047900676\n",
            "Error:9.603747960254256e-05 Prediction:0.7902001285925507\n",
            "Error:5.402108227642978e-05 Prediction:0.7926500964444131\n",
            "Error:3.038685878049206e-05 Prediction:0.7944875723333098\n",
            "Error:1.7092608064027242e-05 Prediction:0.7958656792499823\n",
            "Error:9.614592036015323e-06 Prediction:0.7968992594374867\n",
            "Error:5.408208020258491e-06 Prediction:0.7976744445781151\n"
          ]
        }
      ]
    },
    {
      "cell_type": "code",
      "source": [
        "# 1) An Empty Network\n",
        "\n",
        "weight = 0.1\n",
        "alpha = 0.01\n",
        "\n",
        "def neural_network(input, weight):\n",
        "    prediction = input * weight\n",
        "    return prediction\n",
        "\n",
        "# 2) PREDICT: Making A Prediction And Evaluating Error\n",
        "\n",
        "number_of_toes = [8.5]\n",
        "win_or_lose_binary = [1] # (won!!!)\n",
        "\n",
        "input = number_of_toes[0]\n",
        "goal_pred = win_or_lose_binary[0]\n",
        "\n",
        "pred = neural_network(input,weight)\n",
        "error = (pred - goal_pred) ** 2\n",
        "\n",
        "# 3) COMPARE: Calculating \"Node Delta\" and Putting it on the Output Node\n",
        "\n",
        "delta = pred - goal_pred\n",
        "\n",
        "# 4) LEARN: Calculating \"Weight Delta\" and Putting it on the Weight\n",
        "\n",
        "weight_delta = input * delta\n",
        "\n",
        "# 5) LEARN: Updating the Weight\n",
        "\n",
        "alpha = 0.01 # fixed before training\n",
        "weight -= weight_delta * alpha\n",
        "\n",
        "weight, goal_pred, input = (0.0, 0.8, 0.5)"
      ],
      "metadata": {
        "id": "9iBnEenyJ6x0"
      },
      "execution_count": null,
      "outputs": []
    },
    {
      "cell_type": "code",
      "source": [
        "# Learning is just reducing the error\n",
        "# This is just 1 cycle\n",
        "for iteration in range(4):\n",
        "\n",
        "    pred = input * weight\n",
        "    error = (pred - goal_pred) ** 2\n",
        "    delta = pred - goal_pred\n",
        "    weight_delta = delta * input\n",
        "    weight = weight - weight_delta\n",
        "    print(\"Error:\" + str(error) + \" Prediction:\" + str(pred))"
      ],
      "metadata": {
        "colab": {
          "base_uri": "https://localhost:8080/"
        },
        "id": "_VLq344VKMWb",
        "outputId": "3139ca1f-f364-4d70-f562-235bd25349f8"
      },
      "execution_count": null,
      "outputs": [
        {
          "output_type": "stream",
          "name": "stdout",
          "text": [
            "Error:0.6400000000000001 Prediction:0.0\n",
            "Error:0.3600000000000001 Prediction:0.2\n",
            "Error:0.2025 Prediction:0.35000000000000003\n",
            "Error:0.11390625000000001 Prediction:0.4625\n"
          ]
        }
      ]
    },
    {
      "cell_type": "code",
      "source": [
        "weight, goal_pred, input = (0.0, 0.8, 1.1)\n",
        "\n",
        "for iteration in range(4):\n",
        "    print(\"-----\\nWeight:\" + str(weight))\n",
        "    pred = input * weight\n",
        "    error = (pred - goal_pred) ** 2\n",
        "    delta = pred - goal_pred\n",
        "    weight_delta = delta * input\n",
        "    weight = weight - weight_delta\n",
        "    print(\"Error:\" + str(error) + \" Prediction:\" + str(pred))\n",
        "    print(\"Delta:\" + str(delta) + \" Weight Delta:\" + str(weight_delta))"
      ],
      "metadata": {
        "id": "2a3EOEO_Kj18",
        "outputId": "97e1cc6f-45d4-47e6-8ede-bad48fb8d743",
        "colab": {
          "base_uri": "https://localhost:8080/"
        }
      },
      "execution_count": null,
      "outputs": [
        {
          "output_type": "stream",
          "name": "stdout",
          "text": [
            "-----\n",
            "Weight:0.0\n",
            "Error:0.6400000000000001 Prediction:0.0\n",
            "Delta:-0.8 Weight Delta:-0.8800000000000001\n",
            "-----\n",
            "Weight:0.8800000000000001\n",
            "Error:0.02822400000000005 Prediction:0.9680000000000002\n",
            "Delta:0.16800000000000015 Weight Delta:0.1848000000000002\n",
            "-----\n",
            "Weight:0.6951999999999999\n",
            "Error:0.0012446784000000064 Prediction:0.76472\n",
            "Delta:-0.03528000000000009 Weight Delta:-0.0388080000000001\n",
            "-----\n",
            "Weight:0.734008\n",
            "Error:5.4890317439999896e-05 Prediction:0.8074088\n",
            "Delta:0.007408799999999993 Weight Delta:0.008149679999999992\n"
          ]
        }
      ]
    }
  ]
}