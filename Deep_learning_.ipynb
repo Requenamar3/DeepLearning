{
  "nbformat": 4,
  "nbformat_minor": 0,
  "metadata": {
    "colab": {
      "provenance": [],
      "authorship_tag": "ABX9TyO05FGdKgDVaAiFo3pC2YU7",
      "include_colab_link": true
    },
    "kernelspec": {
      "name": "python3",
      "display_name": "Python 3"
    },
    "language_info": {
      "name": "python"
    }
  },
  "cells": [
    {
      "cell_type": "markdown",
      "metadata": {
        "id": "view-in-github",
        "colab_type": "text"
      },
      "source": [
        "<a href=\"https://colab.research.google.com/github/Requenamar3/DeepLearning/blob/main/Deep_learning_.ipynb\" target=\"_parent\"><img src=\"https://colab.research.google.com/assets/colab-badge.svg\" alt=\"Open In Colab\"/></a>"
      ]
    },
    {
      "cell_type": "code",
      "source": [],
      "metadata": {
        "id": "Sqmky6POk7jX"
      },
      "execution_count": null,
      "outputs": []
    },
    {
      "cell_type": "code",
      "execution_count": null,
      "metadata": {
        "colab": {
          "base_uri": "https://localhost:8080/"
        },
        "id": "Te5SXiDGkeDU",
        "outputId": "ac542951-114b-42fe-ca40-4ece5db976c7"
      },
      "outputs": [
        {
          "output_type": "stream",
          "name": "stdout",
          "text": [
            "0.7140000000000001\n"
          ]
        }
      ],
      "source": [
        "# Define the w_sum function to calculate the weighted sum of two vectors\n",
        "def w_sum(a,b):\n",
        "  # Make sure that the two vectors are of equal length\n",
        "    assert(len(a) == len(b))\n",
        "    # Initialize the output variable to zero\n",
        "    output = 0\n",
        "     # Loop over the elements in the vectors and calculate the weighted sum\n",
        "    for i in range(len(a)):\n",
        "        output += (a[i] * b[i])\n",
        "        # Return the weighted sum\n",
        "    return output\n",
        "\n",
        "# Define the weights to be used in the neural network\n",
        "weights =[.2,.01,.2,-0.2]\n",
        "\n",
        "# Define the neural_network function to make a prediction based on a set of\n",
        "# inputs and weights\n",
        "def neural_network(input,weight):\n",
        "  # Calculate the weighted sum of the input and weights\n",
        "  pred = w_sum(input, weights)\n",
        "  # Return the prediction\n",
        "  return pred\n",
        "\n",
        "bedrooms=[3,2,4,3,5]\n",
        "bathrooms=[1,1,3,2,4]\n",
        "floor= [1,1,2,2,1]\n",
        "condition =[.48,.85,.56,.2,.1]\n",
        "\n",
        "# Define an example input to be used in the neural network\n",
        "input=[bedrooms[0],bathrooms[0],floor[0],condition[0]]\n",
        "\n",
        "# Calculate the prediction using the neural network function\n",
        "pred=neural_network(input,weights)\n",
        "\n",
        "# Print the prediction to the console\n",
        "print(pred)\n",
        "\n",
        "\n",
        "# def w_sum(a,b):\n",
        "#     assert(len(a) == len(b))\n",
        "#     output = 0\n",
        "#     for i in range(len(a)):\n",
        "#         output += (a[i] * b[i])\n",
        "#     return output\n",
        "\n",
        "# weights = [0.1, 0.2, 0]\n",
        "\n",
        "# def neural_network(input, weights):\n",
        "#     pred = w_sum(input,weights)\n",
        "#     return pred\n",
        "\n",
        "# # This dataset is the current\n",
        "# # status at the beginning of\n",
        "# # each game for the first 4 games\n",
        "# # in a season.\n",
        "\n",
        "# # toes = current number of toes\n",
        "# # wlrec = current games won (percent)\n",
        "# # nfans = fan count (in millions)\n",
        "\n",
        "# toes =  [8.5, 9.5, 9.9, 9.0]\n",
        "# wlrec = [0.65, 0.8, 0.8, 0.9]\n",
        "# nfans = [1.2, 1.3, 0.5, 1.0]\n",
        "\n",
        "# # Input corresponds to every entry\n",
        "# # for the first game of the season.\n",
        "\n",
        "# input = [toes[0],wlrec[0],nfans[0]]\n",
        "# pred = neural_network(input,weights)\n",
        "\n",
        "# print(pred)"
      ]
    },
    {
      "cell_type": "code",
      "source": [
        "def w_sum(a, b):\n",
        "    assert(len(a) == len(b))\n",
        "    output = 0\n",
        "    for i in range(len(a)):\n",
        "        output += (a[i] * b[i])\n",
        "    return output\n",
        "\n",
        "weights = [0.1, 0.2, 0]\n",
        "\n",
        "def neural_network(input, weights):\n",
        "    pred = w_sum(input, weights)\n",
        "    return pred\n",
        "\n",
        "# This dataset is the current\n",
        "# status at the beginning of\n",
        "# each game for the first 4 games\n",
        "# in a season.\n",
        "toes = [8.5, 9.5, 9.9, 9.0]\n",
        "wlrec = [0.65, 0.8, 0.8, 0.9]\n",
        "nfans = [1.2, 1.3, 0.5, 1.0]\n",
        "\n",
        "# Input corresponds to every entry\n",
        "# for the first game of the season.\n",
        "input = [toes[0], wlrec[0], nfans[0]]\n",
        "\n",
        "pred = neural_network(input, weights)\n",
        "print(pred)"
      ],
      "metadata": {
        "id": "-yuznU3CBmlt",
        "outputId": "88cd8146-e972-4d4e-9592-14d64f6af2e2",
        "colab": {
          "base_uri": "https://localhost:8080/"
        }
      },
      "execution_count": null,
      "outputs": [
        {
          "output_type": "stream",
          "name": "stdout",
          "text": [
            "0.9800000000000001\n"
          ]
        }
      ]
    }
  ]
}