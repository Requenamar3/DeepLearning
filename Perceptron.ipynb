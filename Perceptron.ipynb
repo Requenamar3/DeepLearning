{
  "nbformat": 4,
  "nbformat_minor": 0,
  "metadata": {
    "colab": {
      "provenance": [],
      "authorship_tag": "ABX9TyP9lCdCFZq8kR8kwK9cDWq5",
      "include_colab_link": true
    },
    "kernelspec": {
      "name": "python3",
      "display_name": "Python 3"
    },
    "language_info": {
      "name": "python"
    }
  },
  "cells": [
    {
      "cell_type": "markdown",
      "metadata": {
        "id": "view-in-github",
        "colab_type": "text"
      },
      "source": [
        "<a href=\"https://colab.research.google.com/github/Requenamar3/DeepLearning/blob/main/Perceptron.ipynb\" target=\"_parent\"><img src=\"https://colab.research.google.com/assets/colab-badge.svg\" alt=\"Open In Colab\"/></a>"
      ]
    },
    {
      "cell_type": "code",
      "execution_count": null,
      "metadata": {
        "colab": {
          "base_uri": "https://localhost:8080/"
        },
        "id": "3Xjry8ttyyLr",
        "outputId": "a1cb55ca-7ff4-409e-86af-6da160660cbc"
      },
      "outputs": [
        {
          "output_type": "stream",
          "name": "stdout",
          "text": [
            "0.31\n",
            "Output: None\n"
          ]
        }
      ],
      "source": [
        "x_input = [0.1, 0.5, 0.2]\n",
        "w_weights = [0.4, 0.3, 0.6]\n",
        "threshold = 0.5\n",
        "\n",
        "# Define a step function to determine the output based on the weighted sum\n",
        "def step(weighted_sum):\n",
        "    if weighted_sum > threshold:\n",
        "        return 1\n",
        "    else:\n",
        "        return 0\n",
        "\n",
        "# Define the perceptron function\n",
        "def perceptron():\n",
        "    weighted_sum = 0\n",
        "\n",
        "    # Calculate the weighted sum\n",
        "    for x, w in zip(x_input, w_weights):\n",
        "        weighted_sum += x * w\n",
        "\n",
        "    print(weighted_sum)  # Print the weighted sum\n",
        "\n",
        "    output = step(weighted_sum)  # Apply the step function to get the final output\n",
        "    return output\n",
        "\n",
        "# Call the perceptron function\n",
        "output = perceptron()\n",
        "print('Output: ' + str(output))  # Print the final output\n"
      ]
    }
  ]
}